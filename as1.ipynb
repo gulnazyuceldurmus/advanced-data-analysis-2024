{
 "cells": [
  {
   "cell_type": "code",
   "execution_count": 7,
   "metadata": {},
   "outputs": [],
   "source": [
    "\n",
    "#1. Answer \n",
    "import random\n",
    "\n",
    "#rastgele bir sayı üretmek için 1 ve 20 arasından random bir sayı seçilir.\n",
    "\n",
    "def sayi_tahmin_oyunu():\n",
    "    dogru_sayi = random.randint(1, 20) \n",
    "      # 1 ile 20 arasında rastgele bir sayı seçelim\n",
    "    print(\"1 ile 20 arasında bir sayı tahmin et\")\n",
    "\n",
    "    while True:     #tahmin doğru yapılana kadar while döngüsü devam edecek.\n",
    "        tahmin = int(input(\"Tahminin nedir? \"))  #input fonksiyonu ile bir tahmin ekleriz. bu tahmini de bir integer'a (int) çeviriyoruz.\n",
    "        if tahmin < dogru_sayi:\n",
    "            print(\"Yanlış. Daha büyük bir sayı dene.\")\n",
    "        elif tahmin > dogru_sayi:\n",
    "            print(\"Yanlış. Daha küçük bir sayı dene.\")\n",
    "        else:\n",
    "            print(f\"Tebrikler! Doğru tahmin ettin. Sayı: {dogru_sayi}\")\n",
    "        break  \n"
   ]
  },
  {
   "cell_type": "code",
   "execution_count": 3,
   "metadata": {},
   "outputs": [
    {
     "name": "stdout",
     "output_type": "stream",
     "text": [
      "2\n"
     ]
    }
   ],
   "source": [
    "#2. Answer\n",
    "#sıralı bir dizide hedef değerin indeksini bulmak için döngü metodu kullanacağız\n",
    "\n",
    "#nums sıralı ve birbirinden farklı tam sayılardan oluşan dizi\n",
    "# search_insert fonksiyonun adı\n",
    "# target=hedef\n",
    "\n",
    "def search_insert(nums, target):\n",
    "    left, right = 0, len(nums) - 1  # Sol ve sağ uçlar\n",
    "    \n",
    "    while left <= right:\n",
    "        mid = (left + right) // 2  # Ortanca indeks\n",
    "        if nums[mid] == target:  # eşitse sonucu döndür\n",
    "            return mid\n",
    "        elif nums[mid] < target:  # hedeften büyükse sağa kaydır\n",
    "            left = mid + 1\n",
    "        else:  # Eğer hedeften küçükse, sola kaydır\n",
    "            right = mid - 1\n",
    "    \n",
    "    return left  # Hedef bulunamazsa, sol taraftaki işlemin konumu hedefin yerleştirileceği yeri gösterir\n",
    "\n",
    "#Örnek\n",
    "nums = [1, 3, 5, 6]\n",
    "target = 5\n",
    "print(search_insert(nums, target))  # Output: 2\n",
    "\n"
   ]
  },
  {
   "cell_type": "code",
   "execution_count": 4,
   "metadata": {},
   "outputs": [
    {
     "name": "stdout",
     "output_type": "stream",
     "text": [
      "100\n"
     ]
    }
   ],
   "source": [
    "#3. Answer\n",
    "\n",
    "#iki binary string ifade a ve b'yi toplayıp yine binary stringe dönüştürmke için int() ve bin() fonksiyonları kullanıcağız.\n",
    "#sayıları ondalık sayılara çevirip sonra tekrar binary string haline getireceğiz. \n",
    "\n",
    "\n",
    "def addBinary(a, b):\n",
    "    # İkili dizeleri ondalık sayılara çeviriyoruz\n",
    "    sum_decimal = int(a, 2) + int(b, 2)\n",
    "    \n",
    "    # Toplamı tekrar ikili dizeye çeviriyoruz ve başındaki '0b'yi atıyoruz\n",
    "    return bin(sum_decimal)[2:]\n",
    "\n",
    "# Örnek\n",
    "a = \"11\"\n",
    "b = \"1\"\n",
    "print(addBinary(a, b))  # Output: \"100\"\n"
   ]
  },
  {
   "cell_type": "code",
   "execution_count": 5,
   "metadata": {},
   "outputs": [
    {
     "name": "stdout",
     "output_type": "stream",
     "text": [
      "4\n"
     ]
    }
   ],
   "source": [
    "#4. Answer\n",
    "\n",
    "#tam sayılardan oluşan bir dizide çift sayıda yer almayan tek elemanı bulmak için \n",
    "# XOR (exclusive OR) işlemini kullanacağız. bu işlem aynı iki sayıyı karşılaştığında sonucu sıfırlar.\n",
    "# tek kalan olunca sonuç farklılaşır. \n",
    "\n",
    "def singleNumber(nums):\n",
    "    result = 0\n",
    "    for num in nums:\n",
    "        result ^= num  # XOR işlemi\n",
    "    return result\n",
    "\n",
    "# Örnek\n",
    "nums = [4, 1, 2, 1, 2]\n",
    "print(singleNumber(nums))  # Output: 4\n"
   ]
  },
  {
   "cell_type": "code",
   "execution_count": 6,
   "metadata": {},
   "outputs": [
    {
     "name": "stdout",
     "output_type": "stream",
     "text": [
      "['AAAAACCCCC', 'CCCCCAAAAA']\n"
     ]
    }
   ],
   "source": [
    "#5. Answer\n",
    "\n",
    "\"\"\" 10 harflik alt dizeleri bulmak için önce bir alt dizi dizide birden fazla bulunuyorsa onu döndürürüz. bunun için sözlük oluşturacağız. \"\"\"\n",
    "\n",
    "def tekrarli_DNA_dizisi(s):\n",
    "    dizi_sayisi = {}  #sözlüğümüzün adı bu\n",
    "    result = []\n",
    "    \n",
    "    # Eğer dizinin uzunluğu 10'dan küçükse, sonuç döndüremeyiz\n",
    "    if len(s) < 10:\n",
    "        return result\n",
    "    \n",
    "    for i in range(len(s) - 9):  # 10 karakter uzunluğundaki alt dizileri almak için\n",
    "        altdizi = s[i:i+10]  # 10 harf uzunluğundaki alt dizi\n",
    "        if altdizi in dizi_sayisi:\n",
    "            dizi_sayisi[altdizi] += 1\n",
    "        else:\n",
    "            dizi_sayisi[altdizi] = 1\n",
    "            \n",
    "    # Tekrar eden dizileri bul\n",
    "    for altdizi, count in dizi_sayisi.items():\n",
    "        if count > 1:\n",
    "            result.append(altdizi)\n",
    "\n",
    "    return result\n",
    "\n",
    "# Örnek\n",
    "s = \"AAAAACCCCCAAAAACCCCCCAAAAAGGGTTT\"\n",
    "print(tekrarli_DNA_dizisi(s))  # Output: [\"AAAAACCCCC\", \"CCCCCAAAAA\"]\n"
   ]
  }
 ],
 "metadata": {
  "kernelspec": {
   "display_name": "Python 3",
   "language": "python",
   "name": "python3"
  },
  "language_info": {
   "codemirror_mode": {
    "name": "ipython",
    "version": 3
   },
   "file_extension": ".py",
   "mimetype": "text/x-python",
   "name": "python",
   "nbconvert_exporter": "python",
   "pygments_lexer": "ipython3",
   "version": "3.12.7"
  }
 },
 "nbformat": 4,
 "nbformat_minor": 2
}
