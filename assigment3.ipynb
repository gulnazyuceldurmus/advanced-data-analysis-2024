{
 "cells": [
  {
   "cell_type": "markdown",
   "metadata": {},
   "source": [
    "1. Gerekli kütüphaneler"
   ]
  },
  {
   "cell_type": "code",
   "execution_count": 1,
   "metadata": {},
   "outputs": [
    {
     "name": "stdout",
     "output_type": "stream",
     "text": [
      "Requirement already satisfied: requests in /Library/Frameworks/Python.framework/Versions/3.12/lib/python3.12/site-packages (2.32.3)\n",
      "Requirement already satisfied: charset-normalizer<4,>=2 in /Library/Frameworks/Python.framework/Versions/3.12/lib/python3.12/site-packages (from requests) (3.4.0)\n",
      "Requirement already satisfied: idna<4,>=2.5 in /Library/Frameworks/Python.framework/Versions/3.12/lib/python3.12/site-packages (from requests) (3.10)\n",
      "Requirement already satisfied: urllib3<3,>=1.21.1 in /Library/Frameworks/Python.framework/Versions/3.12/lib/python3.12/site-packages (from requests) (2.2.3)\n",
      "Requirement already satisfied: certifi>=2017.4.17 in /Library/Frameworks/Python.framework/Versions/3.12/lib/python3.12/site-packages (from requests) (2024.8.30)\n",
      "\n",
      "\u001b[1m[\u001b[0m\u001b[34;49mnotice\u001b[0m\u001b[1;39;49m]\u001b[0m\u001b[39;49m A new release of pip is available: \u001b[0m\u001b[31;49m24.2\u001b[0m\u001b[39;49m -> \u001b[0m\u001b[32;49m24.3.1\u001b[0m\n",
      "\u001b[1m[\u001b[0m\u001b[34;49mnotice\u001b[0m\u001b[1;39;49m]\u001b[0m\u001b[39;49m To update, run: \u001b[0m\u001b[32;49mpip3 install --upgrade pip\u001b[0m\n",
      "Note: you may need to restart the kernel to use updated packages.\n"
     ]
    }
   ],
   "source": [
    "pip install requests"
   ]
  },
  {
   "cell_type": "code",
   "execution_count": 2,
   "metadata": {},
   "outputs": [
    {
     "name": "stdout",
     "output_type": "stream",
     "text": [
      "Requirement already satisfied: beautifulsoup4 in /Library/Frameworks/Python.framework/Versions/3.12/lib/python3.12/site-packages (4.12.3)\n",
      "Requirement already satisfied: soupsieve>1.2 in /Library/Frameworks/Python.framework/Versions/3.12/lib/python3.12/site-packages (from beautifulsoup4) (2.6)\n",
      "\n",
      "\u001b[1m[\u001b[0m\u001b[34;49mnotice\u001b[0m\u001b[1;39;49m]\u001b[0m\u001b[39;49m A new release of pip is available: \u001b[0m\u001b[31;49m24.2\u001b[0m\u001b[39;49m -> \u001b[0m\u001b[32;49m24.3.1\u001b[0m\n",
      "\u001b[1m[\u001b[0m\u001b[34;49mnotice\u001b[0m\u001b[1;39;49m]\u001b[0m\u001b[39;49m To update, run: \u001b[0m\u001b[32;49mpip3 install --upgrade pip\u001b[0m\n",
      "Note: you may need to restart the kernel to use updated packages.\n"
     ]
    }
   ],
   "source": [
    "pip install beautifulsoup4\n"
   ]
  },
  {
   "cell_type": "code",
   "execution_count": 3,
   "metadata": {},
   "outputs": [
    {
     "name": "stdout",
     "output_type": "stream",
     "text": [
      "Requirement already satisfied: scrapy in /Library/Frameworks/Python.framework/Versions/3.12/lib/python3.12/site-packages (2.12.0)\n",
      "Requirement already satisfied: Twisted>=21.7.0 in /Library/Frameworks/Python.framework/Versions/3.12/lib/python3.12/site-packages (from scrapy) (24.10.0)\n",
      "Requirement already satisfied: cryptography>=37.0.0 in /Library/Frameworks/Python.framework/Versions/3.12/lib/python3.12/site-packages (from scrapy) (43.0.3)\n",
      "Requirement already satisfied: cssselect>=0.9.1 in /Library/Frameworks/Python.framework/Versions/3.12/lib/python3.12/site-packages (from scrapy) (1.2.0)\n",
      "Requirement already satisfied: itemloaders>=1.0.1 in /Library/Frameworks/Python.framework/Versions/3.12/lib/python3.12/site-packages (from scrapy) (1.3.2)\n",
      "Requirement already satisfied: parsel>=1.5.0 in /Library/Frameworks/Python.framework/Versions/3.12/lib/python3.12/site-packages (from scrapy) (1.9.1)\n",
      "Requirement already satisfied: pyOpenSSL>=22.0.0 in /Library/Frameworks/Python.framework/Versions/3.12/lib/python3.12/site-packages (from scrapy) (24.2.1)\n",
      "Requirement already satisfied: queuelib>=1.4.2 in /Library/Frameworks/Python.framework/Versions/3.12/lib/python3.12/site-packages (from scrapy) (1.7.0)\n",
      "Requirement already satisfied: service-identity>=18.1.0 in /Library/Frameworks/Python.framework/Versions/3.12/lib/python3.12/site-packages (from scrapy) (24.2.0)\n",
      "Requirement already satisfied: w3lib>=1.17.0 in /Library/Frameworks/Python.framework/Versions/3.12/lib/python3.12/site-packages (from scrapy) (2.2.1)\n",
      "Requirement already satisfied: zope.interface>=5.1.0 in /Library/Frameworks/Python.framework/Versions/3.12/lib/python3.12/site-packages (from scrapy) (7.1.1)\n",
      "Requirement already satisfied: protego>=0.1.15 in /Library/Frameworks/Python.framework/Versions/3.12/lib/python3.12/site-packages (from scrapy) (0.3.1)\n",
      "Requirement already satisfied: itemadapter>=0.1.0 in /Library/Frameworks/Python.framework/Versions/3.12/lib/python3.12/site-packages (from scrapy) (0.9.0)\n",
      "Requirement already satisfied: packaging in /Users/gulnazyucel/Library/Python/3.12/lib/python/site-packages (from scrapy) (24.1)\n",
      "Requirement already satisfied: tldextract in /Library/Frameworks/Python.framework/Versions/3.12/lib/python3.12/site-packages (from scrapy) (5.1.3)\n",
      "Requirement already satisfied: lxml>=4.6.0 in /Library/Frameworks/Python.framework/Versions/3.12/lib/python3.12/site-packages (from scrapy) (5.3.0)\n",
      "Requirement already satisfied: defusedxml>=0.7.1 in /Library/Frameworks/Python.framework/Versions/3.12/lib/python3.12/site-packages (from scrapy) (0.7.1)\n",
      "Requirement already satisfied: PyDispatcher>=2.0.5 in /Library/Frameworks/Python.framework/Versions/3.12/lib/python3.12/site-packages (from scrapy) (2.0.7)\n",
      "Requirement already satisfied: cffi>=1.12 in /Library/Frameworks/Python.framework/Versions/3.12/lib/python3.12/site-packages (from cryptography>=37.0.0->scrapy) (1.17.1)\n",
      "Requirement already satisfied: jmespath>=0.9.5 in /Library/Frameworks/Python.framework/Versions/3.12/lib/python3.12/site-packages (from itemloaders>=1.0.1->scrapy) (1.0.1)\n",
      "Requirement already satisfied: attrs>=19.1.0 in /Library/Frameworks/Python.framework/Versions/3.12/lib/python3.12/site-packages (from service-identity>=18.1.0->scrapy) (24.2.0)\n",
      "Requirement already satisfied: pyasn1 in /Library/Frameworks/Python.framework/Versions/3.12/lib/python3.12/site-packages (from service-identity>=18.1.0->scrapy) (0.6.1)\n",
      "Requirement already satisfied: pyasn1-modules in /Library/Frameworks/Python.framework/Versions/3.12/lib/python3.12/site-packages (from service-identity>=18.1.0->scrapy) (0.4.1)\n",
      "Requirement already satisfied: automat>=24.8.0 in /Library/Frameworks/Python.framework/Versions/3.12/lib/python3.12/site-packages (from Twisted>=21.7.0->scrapy) (24.8.1)\n",
      "Requirement already satisfied: constantly>=15.1 in /Library/Frameworks/Python.framework/Versions/3.12/lib/python3.12/site-packages (from Twisted>=21.7.0->scrapy) (23.10.4)\n",
      "Requirement already satisfied: hyperlink>=17.1.1 in /Library/Frameworks/Python.framework/Versions/3.12/lib/python3.12/site-packages (from Twisted>=21.7.0->scrapy) (21.0.0)\n",
      "Requirement already satisfied: incremental>=24.7.0 in /Library/Frameworks/Python.framework/Versions/3.12/lib/python3.12/site-packages (from Twisted>=21.7.0->scrapy) (24.7.2)\n",
      "Requirement already satisfied: typing-extensions>=4.2.0 in /Library/Frameworks/Python.framework/Versions/3.12/lib/python3.12/site-packages (from Twisted>=21.7.0->scrapy) (4.12.2)\n",
      "Requirement already satisfied: setuptools in /Library/Frameworks/Python.framework/Versions/3.12/lib/python3.12/site-packages (from zope.interface>=5.1.0->scrapy) (75.5.0)\n",
      "Requirement already satisfied: idna in /Library/Frameworks/Python.framework/Versions/3.12/lib/python3.12/site-packages (from tldextract->scrapy) (3.10)\n",
      "Requirement already satisfied: requests>=2.1.0 in /Library/Frameworks/Python.framework/Versions/3.12/lib/python3.12/site-packages (from tldextract->scrapy) (2.32.3)\n",
      "Requirement already satisfied: requests-file>=1.4 in /Library/Frameworks/Python.framework/Versions/3.12/lib/python3.12/site-packages (from tldextract->scrapy) (2.1.0)\n",
      "Requirement already satisfied: filelock>=3.0.8 in /Library/Frameworks/Python.framework/Versions/3.12/lib/python3.12/site-packages (from tldextract->scrapy) (3.16.1)\n",
      "Requirement already satisfied: pycparser in /Library/Frameworks/Python.framework/Versions/3.12/lib/python3.12/site-packages (from cffi>=1.12->cryptography>=37.0.0->scrapy) (2.22)\n",
      "Requirement already satisfied: charset-normalizer<4,>=2 in /Library/Frameworks/Python.framework/Versions/3.12/lib/python3.12/site-packages (from requests>=2.1.0->tldextract->scrapy) (3.4.0)\n",
      "Requirement already satisfied: urllib3<3,>=1.21.1 in /Library/Frameworks/Python.framework/Versions/3.12/lib/python3.12/site-packages (from requests>=2.1.0->tldextract->scrapy) (2.2.3)\n",
      "Requirement already satisfied: certifi>=2017.4.17 in /Library/Frameworks/Python.framework/Versions/3.12/lib/python3.12/site-packages (from requests>=2.1.0->tldextract->scrapy) (2024.8.30)\n",
      "\n",
      "\u001b[1m[\u001b[0m\u001b[34;49mnotice\u001b[0m\u001b[1;39;49m]\u001b[0m\u001b[39;49m A new release of pip is available: \u001b[0m\u001b[31;49m24.2\u001b[0m\u001b[39;49m -> \u001b[0m\u001b[32;49m24.3.1\u001b[0m\n",
      "\u001b[1m[\u001b[0m\u001b[34;49mnotice\u001b[0m\u001b[1;39;49m]\u001b[0m\u001b[39;49m To update, run: \u001b[0m\u001b[32;49mpip3 install --upgrade pip\u001b[0m\n",
      "Note: you may need to restart the kernel to use updated packages.\n"
     ]
    }
   ],
   "source": [
    "pip install scrapy\n"
   ]
  },
  {
   "cell_type": "code",
   "execution_count": 4,
   "metadata": {},
   "outputs": [
    {
     "name": "stdout",
     "output_type": "stream",
     "text": [
      "Requirement already satisfied: selenium in /Library/Frameworks/Python.framework/Versions/3.12/lib/python3.12/site-packages (4.27.1)\n",
      "Requirement already satisfied: urllib3<3,>=1.26 in /Library/Frameworks/Python.framework/Versions/3.12/lib/python3.12/site-packages (from urllib3[socks]<3,>=1.26->selenium) (2.2.3)\n",
      "Requirement already satisfied: trio~=0.17 in /Library/Frameworks/Python.framework/Versions/3.12/lib/python3.12/site-packages (from selenium) (0.27.0)\n",
      "Requirement already satisfied: trio-websocket~=0.9 in /Library/Frameworks/Python.framework/Versions/3.12/lib/python3.12/site-packages (from selenium) (0.11.1)\n",
      "Requirement already satisfied: certifi>=2021.10.8 in /Library/Frameworks/Python.framework/Versions/3.12/lib/python3.12/site-packages (from selenium) (2024.8.30)\n",
      "Requirement already satisfied: typing_extensions~=4.9 in /Library/Frameworks/Python.framework/Versions/3.12/lib/python3.12/site-packages (from selenium) (4.12.2)\n",
      "Requirement already satisfied: websocket-client~=1.8 in /Library/Frameworks/Python.framework/Versions/3.12/lib/python3.12/site-packages (from selenium) (1.8.0)\n",
      "Requirement already satisfied: attrs>=23.2.0 in /Library/Frameworks/Python.framework/Versions/3.12/lib/python3.12/site-packages (from trio~=0.17->selenium) (24.2.0)\n",
      "Requirement already satisfied: sortedcontainers in /Library/Frameworks/Python.framework/Versions/3.12/lib/python3.12/site-packages (from trio~=0.17->selenium) (2.4.0)\n",
      "Requirement already satisfied: idna in /Library/Frameworks/Python.framework/Versions/3.12/lib/python3.12/site-packages (from trio~=0.17->selenium) (3.10)\n",
      "Requirement already satisfied: outcome in /Library/Frameworks/Python.framework/Versions/3.12/lib/python3.12/site-packages (from trio~=0.17->selenium) (1.3.0.post0)\n",
      "Requirement already satisfied: sniffio>=1.3.0 in /Library/Frameworks/Python.framework/Versions/3.12/lib/python3.12/site-packages (from trio~=0.17->selenium) (1.3.1)\n",
      "Requirement already satisfied: wsproto>=0.14 in /Library/Frameworks/Python.framework/Versions/3.12/lib/python3.12/site-packages (from trio-websocket~=0.9->selenium) (1.2.0)\n",
      "Requirement already satisfied: pysocks!=1.5.7,<2.0,>=1.5.6 in /Library/Frameworks/Python.framework/Versions/3.12/lib/python3.12/site-packages (from urllib3[socks]<3,>=1.26->selenium) (1.7.1)\n",
      "Requirement already satisfied: h11<1,>=0.9.0 in /Library/Frameworks/Python.framework/Versions/3.12/lib/python3.12/site-packages (from wsproto>=0.14->trio-websocket~=0.9->selenium) (0.14.0)\n",
      "\n",
      "\u001b[1m[\u001b[0m\u001b[34;49mnotice\u001b[0m\u001b[1;39;49m]\u001b[0m\u001b[39;49m A new release of pip is available: \u001b[0m\u001b[31;49m24.2\u001b[0m\u001b[39;49m -> \u001b[0m\u001b[32;49m24.3.1\u001b[0m\n",
      "\u001b[1m[\u001b[0m\u001b[34;49mnotice\u001b[0m\u001b[1;39;49m]\u001b[0m\u001b[39;49m To update, run: \u001b[0m\u001b[32;49mpip3 install --upgrade pip\u001b[0m\n",
      "Note: you may need to restart the kernel to use updated packages.\n"
     ]
    }
   ],
   "source": [
    "pip install selenium\n"
   ]
  },
  {
   "cell_type": "code",
   "execution_count": 5,
   "metadata": {},
   "outputs": [
    {
     "name": "stdout",
     "output_type": "stream",
     "text": [
      "Requirement already satisfied: pandas in /Library/Frameworks/Python.framework/Versions/3.12/lib/python3.12/site-packages (2.2.3)\n",
      "Requirement already satisfied: numpy>=1.26.0 in /Library/Frameworks/Python.framework/Versions/3.12/lib/python3.12/site-packages (from pandas) (2.1.2)\n",
      "Requirement already satisfied: python-dateutil>=2.8.2 in /Users/gulnazyucel/Library/Python/3.12/lib/python/site-packages (from pandas) (2.9.0.post0)\n",
      "Requirement already satisfied: pytz>=2020.1 in /Library/Frameworks/Python.framework/Versions/3.12/lib/python3.12/site-packages (from pandas) (2024.2)\n",
      "Requirement already satisfied: tzdata>=2022.7 in /Library/Frameworks/Python.framework/Versions/3.12/lib/python3.12/site-packages (from pandas) (2024.2)\n",
      "Requirement already satisfied: six>=1.5 in /Users/gulnazyucel/Library/Python/3.12/lib/python/site-packages (from python-dateutil>=2.8.2->pandas) (1.16.0)\n",
      "\n",
      "\u001b[1m[\u001b[0m\u001b[34;49mnotice\u001b[0m\u001b[1;39;49m]\u001b[0m\u001b[39;49m A new release of pip is available: \u001b[0m\u001b[31;49m24.2\u001b[0m\u001b[39;49m -> \u001b[0m\u001b[32;49m24.3.1\u001b[0m\n",
      "\u001b[1m[\u001b[0m\u001b[34;49mnotice\u001b[0m\u001b[1;39;49m]\u001b[0m\u001b[39;49m To update, run: \u001b[0m\u001b[32;49mpip3 install --upgrade pip\u001b[0m\n",
      "Note: you may need to restart the kernel to use updated packages.\n"
     ]
    }
   ],
   "source": [
    "pip install pandas\n"
   ]
  },
  {
   "cell_type": "code",
   "execution_count": 6,
   "metadata": {},
   "outputs": [
    {
     "name": "stdout",
     "output_type": "stream",
     "text": [
      "Requirement already satisfied: lxml in /Library/Frameworks/Python.framework/Versions/3.12/lib/python3.12/site-packages (5.3.0)\n",
      "\n",
      "\u001b[1m[\u001b[0m\u001b[34;49mnotice\u001b[0m\u001b[1;39;49m]\u001b[0m\u001b[39;49m A new release of pip is available: \u001b[0m\u001b[31;49m24.2\u001b[0m\u001b[39;49m -> \u001b[0m\u001b[32;49m24.3.1\u001b[0m\n",
      "\u001b[1m[\u001b[0m\u001b[34;49mnotice\u001b[0m\u001b[1;39;49m]\u001b[0m\u001b[39;49m To update, run: \u001b[0m\u001b[32;49mpip3 install --upgrade pip\u001b[0m\n",
      "Note: you may need to restart the kernel to use updated packages.\n"
     ]
    }
   ],
   "source": [
    "pip install lxml"
   ]
  },
  {
   "cell_type": "code",
   "execution_count": 7,
   "metadata": {},
   "outputs": [],
   "source": [
    "import requests\n",
    "from bs4 import BeautifulSoup\n",
    "import pandas as pd\n",
    "import scrapy"
   ]
  },
  {
   "cell_type": "markdown",
   "metadata": {},
   "source": [
    "2. Data Scraping \n"
   ]
  },
  {
   "cell_type": "code",
   "execution_count": 8,
   "metadata": {},
   "outputs": [],
   "source": [
    "url = \"https://www.turkanime.co/anime-izle\" \n"
   ]
  },
  {
   "cell_type": "code",
   "execution_count": 9,
   "metadata": {},
   "outputs": [],
   "source": [
    "import requests \n",
    "headers = {\"User-Agent\": \"Mozilla/5.0 (Windows NT 10.0; Win64; x64) AppleWebKit/537.36 (KHTML, like Gecko) Chrome/114.0.0.0 Safari/537.36\"}\n",
    "\n",
    "response = requests.get(url, headers=headers)\n"
   ]
  },
  {
   "cell_type": "code",
   "execution_count": 10,
   "metadata": {},
   "outputs": [
    {
     "name": "stdout",
     "output_type": "stream",
     "text": [
      "İstek başarılı! HTML içeriği alındı.\n",
      "<!DOCTYPE html><html xmlns=\"http://www.w3.org/1999/xhtml\" lang=\"tr-TR\"><head lang=\"tr-TR\" xmlns:fb=\"http://www.facebook.com/2008/fbml\" prefix=\"og: http://ogp.me/ns#\"><title>Animeler</title><meta http-equiv=\"Content-Type\" content=\"text/html; charset=UTF-8\"><!--<meta http-equiv=\"Content-Security-Policy\" content=\"upgrade-insecure-requests\">--><meta name=\"viewport\" content=\"width=device-width, minimum-scale=1.0, maximum-scale=1.0, user-scalable=no\"><meta http-equiv=\"copyright\" content=\"Copyright © 2\n"
     ]
    }
   ],
   "source": [
    "if response.status_code == 200:\n",
    "    print(\"İstek başarılı! HTML içeriği alındı.\")\n",
    "    html_content = response.text  # Web sayfası içeriği\n",
    "    print(html_content[:500])  # İçeriğin ilk 500 karakterini yazdır\n",
    "else:\n",
    "    print(f\"İstek başarısız! HTTP Durum Kodu: {response.status_code}\")"
   ]
  },
  {
   "cell_type": "code",
   "execution_count": 11,
   "metadata": {},
   "outputs": [],
   "source": [
    "from bs4 import BeautifulSoup\n",
    "\n",
    "# HTML içeriğini BeautifulSoup ile parse etme\n",
    "soup = BeautifulSoup(html_content, \"html.parser\")\n"
   ]
  },
  {
   "cell_type": "code",
   "execution_count": 12,
   "metadata": {},
   "outputs": [
    {
     "name": "stdout",
     "output_type": "stream",
     "text": [
      "Bulunan Anime İsimleri:\n",
      "A-Channel\n",
      "A-Channel: +A-Channel\n",
      "A-Channel+smile\n",
      "A-Girl\n",
      "A-Ko The Versus\n",
      "A.I.C.O.: Incarnation\n",
      "A3! Season Spring & Summer\n",
      "Aa! Megami-sama!\n",
      "Aa! Megami-sama! (2011)\n",
      "Aa! Megami-sama! (TV)\n",
      "Aa! Megami-sama! (TV) Specials\n",
      "Aa! Megami-sama!: Sorezore no Tsubasa\n",
      "Aa! Megami-sama!: Tatakau Tsubasa\n",
      "Aachi wa Ssipak\n",
      "Abarenbou Rikishi!! Matsutarou\n",
      "Abashiri Ikka\n",
      "Abenobashi Mahou☆Shoutengai\n",
      "Absolute Duo\n",
      "ACCA: 13-ku Kansatsu-ka\n",
      "ACCA: 13-ku Kansatsu-ka Specials\n",
      "Accel World\n",
      "Accel World EX\n",
      "Accel World: Acchel World.\n",
      "Accel World: Infinite∞Burst\n",
      "Acchi Kocchi (TV)\n",
      "Acchi Kocchi (TV): Place=Princess\n",
      "Ace wo Nerae!\n",
      "Ace wo Nerae! (1979)\n"
     ]
    }
   ],
   "source": [
    "import requests\n",
    "from bs4 import BeautifulSoup\n",
    "\n",
    "# URL'yi belirtiyoruz\n",
    "url = \"https://www.turkanime.co/harf/A\"\n",
    "\n",
    "# Web sayfasını çekiyoruz\n",
    "response = requests.get(url)\n",
    "soup = BeautifulSoup(response.content, \"html.parser\")\n",
    "\n",
    "# Anime isimlerini içeren div'leri buluyoruz\n",
    "anime_divs = soup.find_all(\"div\", class_=\"panel-title\")\n",
    "\n",
    "# İsimleri çıkarıyoruz\n",
    "anime_names = []\n",
    "for div in anime_divs:\n",
    "    link = div.find(\"a\")\n",
    "    if link:\n",
    "        anime_names.append(link.text.strip())\n",
    "\n",
    "# Sonuçları yazdırıyoruz\n",
    "print(\"Bulunan Anime İsimleri:\")\n",
    "for name in anime_names:\n",
    "    print(name)\n"
   ]
  },
  {
   "cell_type": "code",
   "execution_count": 13,
   "metadata": {},
   "outputs": [
    {
     "name": "stdout",
     "output_type": "stream",
     "text": [
      "Bulunan Sıralama Puanları:\n",
      "6.81\n",
      "0.00\n",
      "0.00\n",
      "0.00\n",
      "0.00\n",
      "8.95\n",
      "0.00\n",
      "6.91\n",
      "7.01\n",
      "7.39\n",
      "0.00\n",
      "8.26\n",
      "0.00\n",
      "0.00\n",
      "0.00\n",
      "0.00\n",
      "0.00\n",
      "8.63\n",
      "8.56\n",
      "0.00\n",
      "7.84\n",
      "0.00\n",
      "7.76\n",
      "0.00\n",
      "7.37\n",
      "0.00\n",
      "0.00\n",
      "0.00\n"
     ]
    }
   ],
   "source": [
    "import requests\n",
    "from bs4 import BeautifulSoup\n",
    "\n",
    "# URL'yi belirtiyoruz\n",
    "url = \"https://www.turkanime.co/harf/A\"\n",
    "\n",
    "# Web sayfasını çekiyoruz\n",
    "response = requests.get(url)\n",
    "soup = BeautifulSoup(response.content, \"html.parser\")\n",
    "\n",
    "# \"rank-s\" sınıfına sahip tüm div'leri buluyoruz\n",
    "ranking_divs = soup.find_all(\"div\", class_=\"rank-s\")\n",
    "\n",
    "# Puanları çıkarıyoruz\n",
    "rankings = [div.text.strip() for div in ranking_divs]\n",
    "\n",
    "# Sonuçları yazdırıyoruz\n",
    "print(\"Bulunan Sıralama Puanları:\")\n",
    "for rank in rankings:\n",
    "    print(rank)\n"
   ]
  },
  {
   "cell_type": "code",
   "execution_count": 14,
   "metadata": {},
   "outputs": [
    {
     "name": "stdout",
     "output_type": "stream",
     "text": [
      "Bulunan Bölüm Sayıları:\n",
      "12/12\n",
      "11/11\n",
      "2/2\n",
      "1/1\n",
      "2/2\n",
      "12/12\n",
      "7/12\n",
      "5/5\n",
      "2/3\n",
      "24/24\n",
      "2/3\n",
      "22/22\n",
      "2/2\n",
      "1/1\n",
      "23/23\n",
      "4/4\n",
      "13/13\n",
      "12/12\n",
      "12/12\n",
      "6/6\n",
      "24/24\n",
      "2/2\n",
      "8/8\n",
      "1/1\n",
      "12/12\n",
      "1/1\n",
      "4/26\n",
      "1/1\n",
      "30 Kasım 2024 - 23:27\n",
      "24 Kasım 2024 - 21:06\n",
      "21 Kasım 2024 - 00:01\n",
      "11 Kasım 2024 - 01:17\n",
      "27 Ekim 2024 - 14:46\n",
      "10 Ekim 2024 - 12:47\n",
      "06 Ekim 2024 - 18:37\n",
      "04 Ekim 2024 - 18:18\n",
      "28 Eylül 2024 - 01:42\n",
      "25 Eylül 2024 - 00:53\n",
      "24\n",
      "22\n",
      "16\n",
      "15\n",
      "14\n",
      "13\n",
      "13\n",
      "9\n",
      "9\n",
      "8\n",
      "8\n",
      "6\n",
      "6\n",
      "6\n",
      "5\n"
     ]
    }
   ],
   "source": [
    "import requests\n",
    "from bs4 import BeautifulSoup\n",
    "\n",
    "# URL'yi belirtiyoruz\n",
    "url = \"https://www.turkanime.co/harf/A\"\n",
    "\n",
    "# Web sayfasını çekiyoruz\n",
    "response = requests.get(url)\n",
    "soup = BeautifulSoup(response.content, \"html.parser\")\n",
    "\n",
    "# \"pull-right\" sınıfına sahip tüm span elemanlarını buluyoruz\n",
    "episode_counts = soup.find_all(\"span\", class_=\"pull-right\")\n",
    "\n",
    "# Bölüm sayılarını çıkarıyoruz\n",
    "episodes = [span.text.strip() for span in episode_counts]\n",
    "\n",
    "# Sonuçları yazdırıyoruz\n",
    "print(\"Bulunan Bölüm Sayıları:\")\n",
    "for episode in episodes:\n",
    "    print(episode)\n"
   ]
  },
  {
   "cell_type": "markdown",
   "metadata": {},
   "source": [
    "4. Data Cleaning "
   ]
  },
  {
   "cell_type": "code",
   "execution_count": 15,
   "metadata": {},
   "outputs": [],
   "source": [
    "episodes = episodes[:28]"
   ]
  },
  {
   "cell_type": "code",
   "execution_count": 21,
   "metadata": {},
   "outputs": [],
   "source": [
    "data = {\n",
    "    \"Anime Name\": anime_names,\n",
    "    \"Rating\": rankings,\n",
    "    \"Episodes\": episodes\n",
    "}\n",
    "\n",
    "# Create DataFrame\n",
    "df = pd.DataFrame(data)\n",
    "\n"
   ]
  },
  {
   "cell_type": "code",
   "execution_count": 22,
   "metadata": {},
   "outputs": [
    {
     "data": {
      "text/html": [
       "<div>\n",
       "<style scoped>\n",
       "    .dataframe tbody tr th:only-of-type {\n",
       "        vertical-align: middle;\n",
       "    }\n",
       "\n",
       "    .dataframe tbody tr th {\n",
       "        vertical-align: top;\n",
       "    }\n",
       "\n",
       "    .dataframe thead th {\n",
       "        text-align: right;\n",
       "    }\n",
       "</style>\n",
       "<table border=\"1\" class=\"dataframe\">\n",
       "  <thead>\n",
       "    <tr style=\"text-align: right;\">\n",
       "      <th></th>\n",
       "      <th>Anime Name</th>\n",
       "      <th>Rating</th>\n",
       "      <th>Episodes</th>\n",
       "    </tr>\n",
       "  </thead>\n",
       "  <tbody>\n",
       "    <tr>\n",
       "      <th>0</th>\n",
       "      <td>A-Channel</td>\n",
       "      <td>6.81</td>\n",
       "      <td>12/12</td>\n",
       "    </tr>\n",
       "    <tr>\n",
       "      <th>1</th>\n",
       "      <td>A-Channel: +A-Channel</td>\n",
       "      <td>0.00</td>\n",
       "      <td>11/11</td>\n",
       "    </tr>\n",
       "    <tr>\n",
       "      <th>2</th>\n",
       "      <td>A-Channel+smile</td>\n",
       "      <td>0.00</td>\n",
       "      <td>2/2</td>\n",
       "    </tr>\n",
       "    <tr>\n",
       "      <th>3</th>\n",
       "      <td>A-Girl</td>\n",
       "      <td>0.00</td>\n",
       "      <td>1/1</td>\n",
       "    </tr>\n",
       "    <tr>\n",
       "      <th>4</th>\n",
       "      <td>A-Ko The Versus</td>\n",
       "      <td>0.00</td>\n",
       "      <td>2/2</td>\n",
       "    </tr>\n",
       "    <tr>\n",
       "      <th>5</th>\n",
       "      <td>A.I.C.O.: Incarnation</td>\n",
       "      <td>8.95</td>\n",
       "      <td>12/12</td>\n",
       "    </tr>\n",
       "    <tr>\n",
       "      <th>6</th>\n",
       "      <td>A3! Season Spring &amp; Summer</td>\n",
       "      <td>0.00</td>\n",
       "      <td>7/12</td>\n",
       "    </tr>\n",
       "    <tr>\n",
       "      <th>7</th>\n",
       "      <td>Aa! Megami-sama!</td>\n",
       "      <td>6.91</td>\n",
       "      <td>5/5</td>\n",
       "    </tr>\n",
       "    <tr>\n",
       "      <th>8</th>\n",
       "      <td>Aa! Megami-sama! (2011)</td>\n",
       "      <td>7.01</td>\n",
       "      <td>2/3</td>\n",
       "    </tr>\n",
       "    <tr>\n",
       "      <th>9</th>\n",
       "      <td>Aa! Megami-sama! (TV)</td>\n",
       "      <td>7.39</td>\n",
       "      <td>24/24</td>\n",
       "    </tr>\n",
       "    <tr>\n",
       "      <th>10</th>\n",
       "      <td>Aa! Megami-sama! (TV) Specials</td>\n",
       "      <td>0.00</td>\n",
       "      <td>2/3</td>\n",
       "    </tr>\n",
       "    <tr>\n",
       "      <th>11</th>\n",
       "      <td>Aa! Megami-sama!: Sorezore no Tsubasa</td>\n",
       "      <td>8.26</td>\n",
       "      <td>22/22</td>\n",
       "    </tr>\n",
       "    <tr>\n",
       "      <th>12</th>\n",
       "      <td>Aa! Megami-sama!: Tatakau Tsubasa</td>\n",
       "      <td>0.00</td>\n",
       "      <td>2/2</td>\n",
       "    </tr>\n",
       "    <tr>\n",
       "      <th>13</th>\n",
       "      <td>Aachi wa Ssipak</td>\n",
       "      <td>0.00</td>\n",
       "      <td>1/1</td>\n",
       "    </tr>\n",
       "    <tr>\n",
       "      <th>14</th>\n",
       "      <td>Abarenbou Rikishi!! Matsutarou</td>\n",
       "      <td>0.00</td>\n",
       "      <td>23/23</td>\n",
       "    </tr>\n",
       "    <tr>\n",
       "      <th>15</th>\n",
       "      <td>Abashiri Ikka</td>\n",
       "      <td>0.00</td>\n",
       "      <td>4/4</td>\n",
       "    </tr>\n",
       "    <tr>\n",
       "      <th>16</th>\n",
       "      <td>Abenobashi Mahou☆Shoutengai</td>\n",
       "      <td>0.00</td>\n",
       "      <td>13/13</td>\n",
       "    </tr>\n",
       "    <tr>\n",
       "      <th>17</th>\n",
       "      <td>Absolute Duo</td>\n",
       "      <td>8.63</td>\n",
       "      <td>12/12</td>\n",
       "    </tr>\n",
       "    <tr>\n",
       "      <th>18</th>\n",
       "      <td>ACCA: 13-ku Kansatsu-ka</td>\n",
       "      <td>8.56</td>\n",
       "      <td>12/12</td>\n",
       "    </tr>\n",
       "    <tr>\n",
       "      <th>19</th>\n",
       "      <td>ACCA: 13-ku Kansatsu-ka Specials</td>\n",
       "      <td>0.00</td>\n",
       "      <td>6/6</td>\n",
       "    </tr>\n",
       "    <tr>\n",
       "      <th>20</th>\n",
       "      <td>Accel World</td>\n",
       "      <td>7.84</td>\n",
       "      <td>24/24</td>\n",
       "    </tr>\n",
       "    <tr>\n",
       "      <th>21</th>\n",
       "      <td>Accel World EX</td>\n",
       "      <td>0.00</td>\n",
       "      <td>2/2</td>\n",
       "    </tr>\n",
       "    <tr>\n",
       "      <th>22</th>\n",
       "      <td>Accel World: Acchel World.</td>\n",
       "      <td>7.76</td>\n",
       "      <td>8/8</td>\n",
       "    </tr>\n",
       "    <tr>\n",
       "      <th>23</th>\n",
       "      <td>Accel World: Infinite∞Burst</td>\n",
       "      <td>0.00</td>\n",
       "      <td>1/1</td>\n",
       "    </tr>\n",
       "    <tr>\n",
       "      <th>24</th>\n",
       "      <td>Acchi Kocchi (TV)</td>\n",
       "      <td>7.37</td>\n",
       "      <td>12/12</td>\n",
       "    </tr>\n",
       "    <tr>\n",
       "      <th>25</th>\n",
       "      <td>Acchi Kocchi (TV): Place=Princess</td>\n",
       "      <td>0.00</td>\n",
       "      <td>1/1</td>\n",
       "    </tr>\n",
       "    <tr>\n",
       "      <th>26</th>\n",
       "      <td>Ace wo Nerae!</td>\n",
       "      <td>0.00</td>\n",
       "      <td>4/26</td>\n",
       "    </tr>\n",
       "    <tr>\n",
       "      <th>27</th>\n",
       "      <td>Ace wo Nerae! (1979)</td>\n",
       "      <td>0.00</td>\n",
       "      <td>1/1</td>\n",
       "    </tr>\n",
       "  </tbody>\n",
       "</table>\n",
       "</div>"
      ],
      "text/plain": [
       "                               Anime Name Rating Episodes\n",
       "0                               A-Channel   6.81    12/12\n",
       "1                   A-Channel: +A-Channel   0.00    11/11\n",
       "2                         A-Channel+smile   0.00      2/2\n",
       "3                                  A-Girl   0.00      1/1\n",
       "4                         A-Ko The Versus   0.00      2/2\n",
       "5                   A.I.C.O.: Incarnation   8.95    12/12\n",
       "6              A3! Season Spring & Summer   0.00     7/12\n",
       "7                        Aa! Megami-sama!   6.91      5/5\n",
       "8                 Aa! Megami-sama! (2011)   7.01      2/3\n",
       "9                   Aa! Megami-sama! (TV)   7.39    24/24\n",
       "10         Aa! Megami-sama! (TV) Specials   0.00      2/3\n",
       "11  Aa! Megami-sama!: Sorezore no Tsubasa   8.26    22/22\n",
       "12      Aa! Megami-sama!: Tatakau Tsubasa   0.00      2/2\n",
       "13                        Aachi wa Ssipak   0.00      1/1\n",
       "14         Abarenbou Rikishi!! Matsutarou   0.00    23/23\n",
       "15                          Abashiri Ikka   0.00      4/4\n",
       "16            Abenobashi Mahou☆Shoutengai   0.00    13/13\n",
       "17                           Absolute Duo   8.63    12/12\n",
       "18                ACCA: 13-ku Kansatsu-ka   8.56    12/12\n",
       "19       ACCA: 13-ku Kansatsu-ka Specials   0.00      6/6\n",
       "20                            Accel World   7.84    24/24\n",
       "21                         Accel World EX   0.00      2/2\n",
       "22             Accel World: Acchel World.   7.76      8/8\n",
       "23            Accel World: Infinite∞Burst   0.00      1/1\n",
       "24                      Acchi Kocchi (TV)   7.37    12/12\n",
       "25      Acchi Kocchi (TV): Place=Princess   0.00      1/1\n",
       "26                          Ace wo Nerae!   0.00     4/26\n",
       "27                   Ace wo Nerae! (1979)   0.00      1/1"
      ]
     },
     "execution_count": 22,
     "metadata": {},
     "output_type": "execute_result"
    }
   ],
   "source": [
    "df"
   ]
  },
  {
   "cell_type": "code",
   "execution_count": 23,
   "metadata": {},
   "outputs": [],
   "source": [
    "\n",
    "# DataFrame'i CSV dosyasına kaydedin\n",
    "df.to_csv('anime_data.csv', index=False)\n"
   ]
  }
 ],
 "metadata": {
  "kernelspec": {
   "display_name": "Python 3",
   "language": "python",
   "name": "python3"
  },
  "language_info": {
   "codemirror_mode": {
    "name": "ipython",
    "version": 3
   },
   "file_extension": ".py",
   "mimetype": "text/x-python",
   "name": "python",
   "nbconvert_exporter": "python",
   "pygments_lexer": "ipython3",
   "version": "3.12.7"
  }
 },
 "nbformat": 4,
 "nbformat_minor": 2
}
