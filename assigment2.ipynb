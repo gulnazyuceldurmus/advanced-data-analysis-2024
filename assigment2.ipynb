{
 "cells": [
  {
   "cell_type": "code",
   "execution_count": null,
   "metadata": {},
   "outputs": [],
   "source": [
    "# imported necessary libraries\n",
    "import pandas as pd\n",
    "import matplotlib.pyplot as plt"
   ]
  },
  {
   "cell_type": "markdown",
   "metadata": {},
   "source": [
    "1) load the dataset"
   ]
  },
  {
   "cell_type": "code",
   "execution_count": 144,
   "metadata": {},
   "outputs": [],
   "source": [
    "gdp = pd.read_excel(\"gdp_pcap.xlsx\")\n",
    "life_expectancy = pd.read_excel(\"lex.xlsx\")\n",
    "population = pd.read_excel(\"pop.xlsx\")"
   ]
  },
  {
   "cell_type": "markdown",
   "metadata": {},
   "source": [
    "2) Data merging. "
   ]
  },
  {
   "cell_type": "code",
   "execution_count": 145,
   "metadata": {},
   "outputs": [],
   "source": [
    "population_melted = population.melt(id_vars=[\"country\"], var_name=\"year\", value_name=\"population\")\n",
    "life_expectancy_melted = life_expectancy.melt(id_vars=[\"country\"], var_name=\"year\", value_name=\"life_expectancy\")\n",
    "gdp_melted = gdp.melt(id_vars=[\"country\"], var_name=\"year\", value_name=\"gdp\")\n",
    "\n",
    "# Merge the melted DataFrames on 'country' and 'year'\n",
    "merged_df = pd.merge(population_melted, life_expectancy_melted, on=[\"country\", \"year\"])\n",
    "final_df = pd.merge(merged_df, gdp_melted, on=[\"country\", \"year\"])\n",
    "\n",
    "# Reorder columns\n",
    "final_df = final_df[[\"country\", \"year\", \"population\", \"life_expectancy\", \"gdp\"]]"
   ]
  },
  {
   "cell_type": "code",
   "execution_count": 146,
   "metadata": {},
   "outputs": [
    {
     "data": {
      "text/plain": [
       "0        3.28M\n",
       "1        1.57M\n",
       "2         400k\n",
       "3         2650\n",
       "4        40.2k\n",
       "         ...  \n",
       "58690     384k\n",
       "58691     110M\n",
       "58692    94.3M\n",
       "58693    64.5M\n",
       "58694    37.2M\n",
       "Name: population, Length: 58695, dtype: object"
      ]
     },
     "execution_count": 146,
     "metadata": {},
     "output_type": "execute_result"
    }
   ],
   "source": [
    "final_df[\"population\"]"
   ]
  },
  {
   "cell_type": "markdown",
   "metadata": {},
   "source": [
    "3) Data cleaning and preparation"
   ]
  },
  {
   "cell_type": "code",
   "execution_count": null,
   "metadata": {},
   "outputs": [],
   "source": [
    "# to convert strings like 3.2B, 1.5B etc. to integer and float types.\n",
    "def convert_string_to_int(str_):\n",
    "    if isinstance(str_, str):\n",
    "        # Handle 'm' (million) and 'k' (thousand)\n",
    "        if 'M' in str_:\n",
    "            return int(float(str_.replace('M', '').strip()) * 1_000_000)\n",
    "        elif 'B' in str_:\n",
    "            return int(float(str_.replace('B', '').strip()) * 1_000_000_000)\n",
    "        elif 'k' in str_:\n",
    "            return int(float(str_.replace('k', '').strip()) * 1_000)\n",
    "        else:\n",
    "            return int(str_)  # If no 'm' or 'k', assume it's a regular number\n",
    "    return str_\n",
    "\n",
    "# Apply the conversion function to the 'population' and 'gdp columns' column\n",
    "final_df['population'] = final_df['population'].apply(convert_string_to_int)\n",
    "final_df['gdp'] = final_df['gdp'].apply(convert_string_to_int)"
   ]
  },
  {
   "cell_type": "code",
   "execution_count": null,
   "metadata": {},
   "outputs": [
    {
     "name": "stdout",
     "output_type": "stream",
     "text": [
      "country               0\n",
      "year                  0\n",
      "population            0\n",
      "life_expectancy    1350\n",
      "gdp                   0\n",
      "dtype: int64\n"
     ]
    }
   ],
   "source": [
    "# see how much nan values in data\n",
    "print(final_df.isna().sum())"
   ]
  },
  {
   "cell_type": "code",
   "execution_count": null,
   "metadata": {},
   "outputs": [
    {
     "name": "stdout",
     "output_type": "stream",
     "text": [
      "                   country  year  population  life_expectancy   gdp\n",
      "3                  Andorra  1800        2650              NaN  1370\n",
      "46                Dominica  1800       19900              NaN   538\n",
      "93     St. Kitts and Nevis  1800       17200              NaN  1330\n",
      "107                 Monaco  1800        7790              NaN  2230\n",
      "112       Marshall Islands  1800        5830              NaN   617\n",
      "...                    ...   ...         ...              ...   ...\n",
      "29167     Marshall Islands  1949       13600              NaN  1520\n",
      "29186                Nauru  1949        3340              NaN  4270\n",
      "29193                Palau  1949        7370              NaN  9730\n",
      "29211           San Marino  1949       13000              NaN  8800\n",
      "29233               Tuvalu  1949        4730              NaN  1610\n",
      "\n",
      "[1350 rows x 5 columns]\n"
     ]
    }
   ],
   "source": [
    "\n",
    "# see how nan values seen\n",
    "nan_rows = final_df[final_df.isna().any(axis=1)]\n",
    "print(nan_rows)"
   ]
  },
  {
   "cell_type": "code",
   "execution_count": null,
   "metadata": {},
   "outputs": [
    {
     "name": "stderr",
     "output_type": "stream",
     "text": [
      "/tmp/ipykernel_720/2524152267.py:1: FutureWarning: Downcasting object dtype arrays on .fillna, .ffill, .bfill is deprecated and will change in a future version. Call result.infer_objects(copy=False) instead. To opt-in to the future behavior, set `pd.set_option('future.no_silent_downcasting', True)`\n",
      "  final_df_ffill = final_df.ffill()\n"
     ]
    }
   ],
   "source": [
    "# data imputation by using ffill.\n",
    "final_df_ffill = final_df.ffill()"
   ]
  },
  {
   "cell_type": "code",
   "execution_count": 153,
   "metadata": {},
   "outputs": [
    {
     "name": "stdout",
     "output_type": "stream",
     "text": [
      "Empty DataFrame\n",
      "Columns: [country, year, population, life_expectancy, gdp]\n",
      "Index: []\n"
     ]
    }
   ],
   "source": [
    "print(final_df_ffill[final_df_ffill.isna().any(axis=1)])"
   ]
  },
  {
   "cell_type": "code",
   "execution_count": null,
   "metadata": {},
   "outputs": [
    {
     "data": {
      "text/html": [
       "<div>\n",
       "<style scoped>\n",
       "    .dataframe tbody tr th:only-of-type {\n",
       "        vertical-align: middle;\n",
       "    }\n",
       "\n",
       "    .dataframe tbody tr th {\n",
       "        vertical-align: top;\n",
       "    }\n",
       "\n",
       "    .dataframe thead th {\n",
       "        text-align: right;\n",
       "    }\n",
       "</style>\n",
       "<table border=\"1\" class=\"dataframe\">\n",
       "  <thead>\n",
       "    <tr style=\"text-align: right;\">\n",
       "      <th></th>\n",
       "      <th>country</th>\n",
       "      <th>year</th>\n",
       "      <th>population</th>\n",
       "      <th>life_expectancy</th>\n",
       "      <th>GDP</th>\n",
       "    </tr>\n",
       "  </thead>\n",
       "  <tbody>\n",
       "    <tr>\n",
       "      <th>0</th>\n",
       "      <td>Afghanistan</td>\n",
       "      <td>1800</td>\n",
       "      <td>3280000</td>\n",
       "      <td>28.2</td>\n",
       "      <td>481</td>\n",
       "    </tr>\n",
       "    <tr>\n",
       "      <th>1</th>\n",
       "      <td>Angola</td>\n",
       "      <td>1800</td>\n",
       "      <td>1570000</td>\n",
       "      <td>27.0</td>\n",
       "      <td>373</td>\n",
       "    </tr>\n",
       "    <tr>\n",
       "      <th>2</th>\n",
       "      <td>Albania</td>\n",
       "      <td>1800</td>\n",
       "      <td>400000</td>\n",
       "      <td>35.4</td>\n",
       "      <td>469</td>\n",
       "    </tr>\n",
       "    <tr>\n",
       "      <th>3</th>\n",
       "      <td>Andorra</td>\n",
       "      <td>1800</td>\n",
       "      <td>2650</td>\n",
       "      <td>35.4</td>\n",
       "      <td>1370</td>\n",
       "    </tr>\n",
       "    <tr>\n",
       "      <th>4</th>\n",
       "      <td>UAE</td>\n",
       "      <td>1800</td>\n",
       "      <td>40200</td>\n",
       "      <td>30.7</td>\n",
       "      <td>1140</td>\n",
       "    </tr>\n",
       "    <tr>\n",
       "      <th>...</th>\n",
       "      <td>...</td>\n",
       "      <td>...</td>\n",
       "      <td>...</td>\n",
       "      <td>...</td>\n",
       "      <td>...</td>\n",
       "    </tr>\n",
       "    <tr>\n",
       "      <th>58690</th>\n",
       "      <td>Samoa</td>\n",
       "      <td>2100</td>\n",
       "      <td>384000</td>\n",
       "      <td>82.3</td>\n",
       "      <td>28600</td>\n",
       "    </tr>\n",
       "    <tr>\n",
       "      <th>58691</th>\n",
       "      <td>Yemen</td>\n",
       "      <td>2100</td>\n",
       "      <td>110000000</td>\n",
       "      <td>82.1</td>\n",
       "      <td>7650</td>\n",
       "    </tr>\n",
       "    <tr>\n",
       "      <th>58692</th>\n",
       "      <td>South Africa</td>\n",
       "      <td>2100</td>\n",
       "      <td>94300000</td>\n",
       "      <td>75.2</td>\n",
       "      <td>50100</td>\n",
       "    </tr>\n",
       "    <tr>\n",
       "      <th>58693</th>\n",
       "      <td>Zambia</td>\n",
       "      <td>2100</td>\n",
       "      <td>64500000</td>\n",
       "      <td>74.5</td>\n",
       "      <td>20300</td>\n",
       "    </tr>\n",
       "    <tr>\n",
       "      <th>58694</th>\n",
       "      <td>Zimbabwe</td>\n",
       "      <td>2100</td>\n",
       "      <td>37200000</td>\n",
       "      <td>71.3</td>\n",
       "      <td>12200</td>\n",
       "    </tr>\n",
       "  </tbody>\n",
       "</table>\n",
       "<p>58695 rows × 5 columns</p>\n",
       "</div>"
      ],
      "text/plain": [
       "            country  year  population  life_expectancy    GDP\n",
       "0       Afghanistan  1800     3280000             28.2    481\n",
       "1            Angola  1800     1570000             27.0    373\n",
       "2           Albania  1800      400000             35.4    469\n",
       "3           Andorra  1800        2650             35.4   1370\n",
       "4               UAE  1800       40200             30.7   1140\n",
       "...             ...   ...         ...              ...    ...\n",
       "58690         Samoa  2100      384000             82.3  28600\n",
       "58691         Yemen  2100   110000000             82.1   7650\n",
       "58692  South Africa  2100    94300000             75.2  50100\n",
       "58693        Zambia  2100    64500000             74.5  20300\n",
       "58694      Zimbabwe  2100    37200000             71.3  12200\n",
       "\n",
       "[58695 rows x 5 columns]"
      ]
     },
     "execution_count": 154,
     "metadata": {},
     "output_type": "execute_result"
    }
   ],
   "source": [
    "# rename gdp to GDP\n",
    "final_df_ffill.rename(columns={'gdp': 'GDP'}, inplace=True)\n",
    "final_df_ffill"
   ]
  },
  {
   "cell_type": "markdown",
   "metadata": {},
   "source": [
    "4) Data exploration"
   ]
  },
  {
   "cell_type": "code",
   "execution_count": 155,
   "metadata": {},
   "outputs": [
    {
     "data": {
      "text/html": [
       "<div>\n",
       "<style scoped>\n",
       "    .dataframe tbody tr th:only-of-type {\n",
       "        vertical-align: middle;\n",
       "    }\n",
       "\n",
       "    .dataframe tbody tr th {\n",
       "        vertical-align: top;\n",
       "    }\n",
       "\n",
       "    .dataframe thead th {\n",
       "        text-align: right;\n",
       "    }\n",
       "</style>\n",
       "<table border=\"1\" class=\"dataframe\">\n",
       "  <thead>\n",
       "    <tr style=\"text-align: right;\">\n",
       "      <th></th>\n",
       "      <th>country</th>\n",
       "      <th>year</th>\n",
       "      <th>population</th>\n",
       "      <th>life_expectancy</th>\n",
       "      <th>GDP</th>\n",
       "    </tr>\n",
       "  </thead>\n",
       "  <tbody>\n",
       "    <tr>\n",
       "      <th>0</th>\n",
       "      <td>Afghanistan</td>\n",
       "      <td>1800</td>\n",
       "      <td>3280000</td>\n",
       "      <td>28.2</td>\n",
       "      <td>481</td>\n",
       "    </tr>\n",
       "    <tr>\n",
       "      <th>1</th>\n",
       "      <td>Angola</td>\n",
       "      <td>1800</td>\n",
       "      <td>1570000</td>\n",
       "      <td>27.0</td>\n",
       "      <td>373</td>\n",
       "    </tr>\n",
       "    <tr>\n",
       "      <th>2</th>\n",
       "      <td>Albania</td>\n",
       "      <td>1800</td>\n",
       "      <td>400000</td>\n",
       "      <td>35.4</td>\n",
       "      <td>469</td>\n",
       "    </tr>\n",
       "    <tr>\n",
       "      <th>3</th>\n",
       "      <td>Andorra</td>\n",
       "      <td>1800</td>\n",
       "      <td>2650</td>\n",
       "      <td>35.4</td>\n",
       "      <td>1370</td>\n",
       "    </tr>\n",
       "    <tr>\n",
       "      <th>4</th>\n",
       "      <td>UAE</td>\n",
       "      <td>1800</td>\n",
       "      <td>40200</td>\n",
       "      <td>30.7</td>\n",
       "      <td>1140</td>\n",
       "    </tr>\n",
       "  </tbody>\n",
       "</table>\n",
       "</div>"
      ],
      "text/plain": [
       "       country  year  population  life_expectancy   GDP\n",
       "0  Afghanistan  1800     3280000             28.2   481\n",
       "1       Angola  1800     1570000             27.0   373\n",
       "2      Albania  1800      400000             35.4   469\n",
       "3      Andorra  1800        2650             35.4  1370\n",
       "4          UAE  1800       40200             30.7  1140"
      ]
     },
     "execution_count": 155,
     "metadata": {},
     "output_type": "execute_result"
    }
   ],
   "source": [
    "final_df_ffill.head(5)"
   ]
  },
  {
   "cell_type": "code",
   "execution_count": 156,
   "metadata": {},
   "outputs": [
    {
     "data": {
      "text/html": [
       "<div>\n",
       "<style scoped>\n",
       "    .dataframe tbody tr th:only-of-type {\n",
       "        vertical-align: middle;\n",
       "    }\n",
       "\n",
       "    .dataframe tbody tr th {\n",
       "        vertical-align: top;\n",
       "    }\n",
       "\n",
       "    .dataframe thead th {\n",
       "        text-align: right;\n",
       "    }\n",
       "</style>\n",
       "<table border=\"1\" class=\"dataframe\">\n",
       "  <thead>\n",
       "    <tr style=\"text-align: right;\">\n",
       "      <th></th>\n",
       "      <th>country</th>\n",
       "      <th>year</th>\n",
       "      <th>population</th>\n",
       "      <th>life_expectancy</th>\n",
       "      <th>GDP</th>\n",
       "    </tr>\n",
       "  </thead>\n",
       "  <tbody>\n",
       "    <tr>\n",
       "      <th>58690</th>\n",
       "      <td>Samoa</td>\n",
       "      <td>2100</td>\n",
       "      <td>384000</td>\n",
       "      <td>82.3</td>\n",
       "      <td>28600</td>\n",
       "    </tr>\n",
       "    <tr>\n",
       "      <th>58691</th>\n",
       "      <td>Yemen</td>\n",
       "      <td>2100</td>\n",
       "      <td>110000000</td>\n",
       "      <td>82.1</td>\n",
       "      <td>7650</td>\n",
       "    </tr>\n",
       "    <tr>\n",
       "      <th>58692</th>\n",
       "      <td>South Africa</td>\n",
       "      <td>2100</td>\n",
       "      <td>94300000</td>\n",
       "      <td>75.2</td>\n",
       "      <td>50100</td>\n",
       "    </tr>\n",
       "    <tr>\n",
       "      <th>58693</th>\n",
       "      <td>Zambia</td>\n",
       "      <td>2100</td>\n",
       "      <td>64500000</td>\n",
       "      <td>74.5</td>\n",
       "      <td>20300</td>\n",
       "    </tr>\n",
       "    <tr>\n",
       "      <th>58694</th>\n",
       "      <td>Zimbabwe</td>\n",
       "      <td>2100</td>\n",
       "      <td>37200000</td>\n",
       "      <td>71.3</td>\n",
       "      <td>12200</td>\n",
       "    </tr>\n",
       "  </tbody>\n",
       "</table>\n",
       "</div>"
      ],
      "text/plain": [
       "            country  year  population  life_expectancy    GDP\n",
       "58690         Samoa  2100      384000             82.3  28600\n",
       "58691         Yemen  2100   110000000             82.1   7650\n",
       "58692  South Africa  2100    94300000             75.2  50100\n",
       "58693        Zambia  2100    64500000             74.5  20300\n",
       "58694      Zimbabwe  2100    37200000             71.3  12200"
      ]
     },
     "execution_count": 156,
     "metadata": {},
     "output_type": "execute_result"
    }
   ],
   "source": [
    "final_df_ffill.tail(5)"
   ]
  },
  {
   "cell_type": "code",
   "execution_count": 157,
   "metadata": {},
   "outputs": [
    {
     "name": "stdout",
     "output_type": "stream",
     "text": [
      "Number of Countries===> 195\n"
     ]
    }
   ],
   "source": [
    "countries = final_df_ffill[\"country\"].nunique()\n",
    "print(f\"Number of Countries===> {countries}\")"
   ]
  },
  {
   "cell_type": "code",
   "execution_count": 158,
   "metadata": {},
   "outputs": [
    {
     "data": {
      "text/html": [
       "<div>\n",
       "<style scoped>\n",
       "    .dataframe tbody tr th:only-of-type {\n",
       "        vertical-align: middle;\n",
       "    }\n",
       "\n",
       "    .dataframe tbody tr th {\n",
       "        vertical-align: top;\n",
       "    }\n",
       "\n",
       "    .dataframe thead th {\n",
       "        text-align: right;\n",
       "    }\n",
       "</style>\n",
       "<table border=\"1\" class=\"dataframe\">\n",
       "  <thead>\n",
       "    <tr style=\"text-align: right;\">\n",
       "      <th></th>\n",
       "      <th>country</th>\n",
       "      <th>year</th>\n",
       "      <th>population</th>\n",
       "      <th>life_expectancy</th>\n",
       "      <th>gdp</th>\n",
       "    </tr>\n",
       "  </thead>\n",
       "  <tbody>\n",
       "    <tr>\n",
       "      <th>38415</th>\n",
       "      <td>Afghanistan</td>\n",
       "      <td>1997</td>\n",
       "      <td>18500000</td>\n",
       "      <td>54.5</td>\n",
       "      <td>1180</td>\n",
       "    </tr>\n",
       "    <tr>\n",
       "      <th>38416</th>\n",
       "      <td>Angola</td>\n",
       "      <td>1997</td>\n",
       "      <td>14700000</td>\n",
       "      <td>51.6</td>\n",
       "      <td>4000</td>\n",
       "    </tr>\n",
       "    <tr>\n",
       "      <th>38417</th>\n",
       "      <td>Albania</td>\n",
       "      <td>1997</td>\n",
       "      <td>3230000</td>\n",
       "      <td>72.9</td>\n",
       "      <td>4330</td>\n",
       "    </tr>\n",
       "    <tr>\n",
       "      <th>38418</th>\n",
       "      <td>Andorra</td>\n",
       "      <td>1997</td>\n",
       "      <td>64700</td>\n",
       "      <td>80.2</td>\n",
       "      <td>43600</td>\n",
       "    </tr>\n",
       "    <tr>\n",
       "      <th>38419</th>\n",
       "      <td>UAE</td>\n",
       "      <td>1997</td>\n",
       "      <td>2820000</td>\n",
       "      <td>69.0</td>\n",
       "      <td>88600</td>\n",
       "    </tr>\n",
       "  </tbody>\n",
       "</table>\n",
       "</div>"
      ],
      "text/plain": [
       "           country  year  population  life_expectancy    gdp\n",
       "38415  Afghanistan  1997    18500000             54.5   1180\n",
       "38416       Angola  1997    14700000             51.6   4000\n",
       "38417      Albania  1997     3230000             72.9   4330\n",
       "38418      Andorra  1997       64700             80.2  43600\n",
       "38419          UAE  1997     2820000             69.0  88600"
      ]
     },
     "execution_count": 158,
     "metadata": {},
     "output_type": "execute_result"
    }
   ],
   "source": [
    "df_1997 = final_df[final_df[\"year\"]==1997]\n",
    "df_1997.head()"
   ]
  },
  {
   "cell_type": "markdown",
   "metadata": {},
   "source": [
    "5) Data Filtering"
   ]
  },
  {
   "cell_type": "code",
   "execution_count": null,
   "metadata": {},
   "outputs": [],
   "source": [
    "# here I just created a dummy continent dict. I didnt find continent information in my datasets. \n",
    "continents = {\"Africa\": {\"Angola\", \"Somalia\", \"Zimbabwe\", \"Zambia\", \"South Africa\", \"Kenya\"}, \"Asia\": {\"Turkey\", \"Iran\", \"Mongolia\"}}"
   ]
  },
  {
   "cell_type": "code",
   "execution_count": null,
   "metadata": {},
   "outputs": [
    {
     "data": {
      "text/html": [
       "<div>\n",
       "<style scoped>\n",
       "    .dataframe tbody tr th:only-of-type {\n",
       "        vertical-align: middle;\n",
       "    }\n",
       "\n",
       "    .dataframe tbody tr th {\n",
       "        vertical-align: top;\n",
       "    }\n",
       "\n",
       "    .dataframe thead th {\n",
       "        text-align: right;\n",
       "    }\n",
       "</style>\n",
       "<table border=\"1\" class=\"dataframe\">\n",
       "  <thead>\n",
       "    <tr style=\"text-align: right;\">\n",
       "      <th></th>\n",
       "      <th>country</th>\n",
       "      <th>year</th>\n",
       "      <th>population</th>\n",
       "      <th>life_expectancy</th>\n",
       "      <th>GDP</th>\n",
       "    </tr>\n",
       "  </thead>\n",
       "  <tbody>\n",
       "    <tr>\n",
       "      <th>1</th>\n",
       "      <td>Angola</td>\n",
       "      <td>1800</td>\n",
       "      <td>1570000</td>\n",
       "      <td>27.0</td>\n",
       "      <td>373</td>\n",
       "    </tr>\n",
       "    <tr>\n",
       "      <th>89</th>\n",
       "      <td>Kenya</td>\n",
       "      <td>1800</td>\n",
       "      <td>2570000</td>\n",
       "      <td>25.5</td>\n",
       "      <td>737</td>\n",
       "    </tr>\n",
       "    <tr>\n",
       "      <th>157</th>\n",
       "      <td>Somalia</td>\n",
       "      <td>1800</td>\n",
       "      <td>989000</td>\n",
       "      <td>29.4</td>\n",
       "      <td>794</td>\n",
       "    </tr>\n",
       "    <tr>\n",
       "      <th>192</th>\n",
       "      <td>South Africa</td>\n",
       "      <td>1800</td>\n",
       "      <td>1450000</td>\n",
       "      <td>33.5</td>\n",
       "      <td>1750</td>\n",
       "    </tr>\n",
       "    <tr>\n",
       "      <th>193</th>\n",
       "      <td>Zambia</td>\n",
       "      <td>1800</td>\n",
       "      <td>747000</td>\n",
       "      <td>32.6</td>\n",
       "      <td>533</td>\n",
       "    </tr>\n",
       "    <tr>\n",
       "      <th>...</th>\n",
       "      <td>...</td>\n",
       "      <td>...</td>\n",
       "      <td>...</td>\n",
       "      <td>...</td>\n",
       "      <td>...</td>\n",
       "    </tr>\n",
       "    <tr>\n",
       "      <th>58589</th>\n",
       "      <td>Kenya</td>\n",
       "      <td>2100</td>\n",
       "      <td>104000000</td>\n",
       "      <td>80.3</td>\n",
       "      <td>30500</td>\n",
       "    </tr>\n",
       "    <tr>\n",
       "      <th>58657</th>\n",
       "      <td>Somalia</td>\n",
       "      <td>2100</td>\n",
       "      <td>67400000</td>\n",
       "      <td>72.7</td>\n",
       "      <td>4700</td>\n",
       "    </tr>\n",
       "    <tr>\n",
       "      <th>58692</th>\n",
       "      <td>South Africa</td>\n",
       "      <td>2100</td>\n",
       "      <td>94300000</td>\n",
       "      <td>75.2</td>\n",
       "      <td>50100</td>\n",
       "    </tr>\n",
       "    <tr>\n",
       "      <th>58693</th>\n",
       "      <td>Zambia</td>\n",
       "      <td>2100</td>\n",
       "      <td>64500000</td>\n",
       "      <td>74.5</td>\n",
       "      <td>20300</td>\n",
       "    </tr>\n",
       "    <tr>\n",
       "      <th>58694</th>\n",
       "      <td>Zimbabwe</td>\n",
       "      <td>2100</td>\n",
       "      <td>37200000</td>\n",
       "      <td>71.3</td>\n",
       "      <td>12200</td>\n",
       "    </tr>\n",
       "  </tbody>\n",
       "</table>\n",
       "<p>1806 rows × 5 columns</p>\n",
       "</div>"
      ],
      "text/plain": [
       "            country  year  population  life_expectancy    GDP\n",
       "1            Angola  1800     1570000             27.0    373\n",
       "89            Kenya  1800     2570000             25.5    737\n",
       "157         Somalia  1800      989000             29.4    794\n",
       "192    South Africa  1800     1450000             33.5   1750\n",
       "193          Zambia  1800      747000             32.6    533\n",
       "...             ...   ...         ...              ...    ...\n",
       "58589         Kenya  2100   104000000             80.3  30500\n",
       "58657       Somalia  2100    67400000             72.7   4700\n",
       "58692  South Africa  2100    94300000             75.2  50100\n",
       "58693        Zambia  2100    64500000             74.5  20300\n",
       "58694      Zimbabwe  2100    37200000             71.3  12200\n",
       "\n",
       "[1806 rows x 5 columns]"
      ]
     },
     "execution_count": 160,
     "metadata": {},
     "output_type": "execute_result"
    }
   ],
   "source": [
    "# I filtered out Africa\n",
    "final_df_ffill[final_df_ffill[\"country\"].isin(continents[\"Africa\"])]"
   ]
  },
  {
   "cell_type": "code",
   "execution_count": 161,
   "metadata": {},
   "outputs": [],
   "source": [
    "less_1_million = final_df_ffill[final_df_ffill[\"population\"]>=1000000]"
   ]
  },
  {
   "cell_type": "code",
   "execution_count": 162,
   "metadata": {},
   "outputs": [
    {
     "data": {
      "text/html": [
       "<div>\n",
       "<style scoped>\n",
       "    .dataframe tbody tr th:only-of-type {\n",
       "        vertical-align: middle;\n",
       "    }\n",
       "\n",
       "    .dataframe tbody tr th {\n",
       "        vertical-align: top;\n",
       "    }\n",
       "\n",
       "    .dataframe thead th {\n",
       "        text-align: right;\n",
       "    }\n",
       "</style>\n",
       "<table border=\"1\" class=\"dataframe\">\n",
       "  <thead>\n",
       "    <tr style=\"text-align: right;\">\n",
       "      <th></th>\n",
       "      <th>country</th>\n",
       "      <th>year</th>\n",
       "      <th>population</th>\n",
       "      <th>life_expectancy</th>\n",
       "      <th>GDP</th>\n",
       "    </tr>\n",
       "  </thead>\n",
       "  <tbody>\n",
       "    <tr>\n",
       "      <th>0</th>\n",
       "      <td>Afghanistan</td>\n",
       "      <td>1800</td>\n",
       "      <td>3280000</td>\n",
       "      <td>28.2</td>\n",
       "      <td>481</td>\n",
       "    </tr>\n",
       "    <tr>\n",
       "      <th>1</th>\n",
       "      <td>Angola</td>\n",
       "      <td>1800</td>\n",
       "      <td>1570000</td>\n",
       "      <td>27.0</td>\n",
       "      <td>373</td>\n",
       "    </tr>\n",
       "    <tr>\n",
       "      <th>9</th>\n",
       "      <td>Austria</td>\n",
       "      <td>1800</td>\n",
       "      <td>3000000</td>\n",
       "      <td>34.4</td>\n",
       "      <td>1940</td>\n",
       "    </tr>\n",
       "    <tr>\n",
       "      <th>12</th>\n",
       "      <td>Belgium</td>\n",
       "      <td>1800</td>\n",
       "      <td>3250000</td>\n",
       "      <td>40.0</td>\n",
       "      <td>2660</td>\n",
       "    </tr>\n",
       "    <tr>\n",
       "      <th>14</th>\n",
       "      <td>Burkina Faso</td>\n",
       "      <td>1800</td>\n",
       "      <td>1670000</td>\n",
       "      <td>29.2</td>\n",
       "      <td>595</td>\n",
       "    </tr>\n",
       "  </tbody>\n",
       "</table>\n",
       "</div>"
      ],
      "text/plain": [
       "         country  year  population  life_expectancy   GDP\n",
       "0    Afghanistan  1800     3280000             28.2   481\n",
       "1         Angola  1800     1570000             27.0   373\n",
       "9        Austria  1800     3000000             34.4  1940\n",
       "12       Belgium  1800     3250000             40.0  2660\n",
       "14  Burkina Faso  1800     1670000             29.2   595"
      ]
     },
     "execution_count": 162,
     "metadata": {},
     "output_type": "execute_result"
    }
   ],
   "source": [
    "less_1_million.head()"
   ]
  },
  {
   "cell_type": "markdown",
   "metadata": {},
   "source": [
    "6) Data Organization"
   ]
  },
  {
   "cell_type": "code",
   "execution_count": 163,
   "metadata": {},
   "outputs": [
    {
     "data": {
      "text/html": [
       "<div>\n",
       "<style scoped>\n",
       "    .dataframe tbody tr th:only-of-type {\n",
       "        vertical-align: middle;\n",
       "    }\n",
       "\n",
       "    .dataframe tbody tr th {\n",
       "        vertical-align: top;\n",
       "    }\n",
       "\n",
       "    .dataframe thead th {\n",
       "        text-align: right;\n",
       "    }\n",
       "</style>\n",
       "<table border=\"1\" class=\"dataframe\">\n",
       "  <thead>\n",
       "    <tr style=\"text-align: right;\">\n",
       "      <th></th>\n",
       "      <th>country</th>\n",
       "      <th>year</th>\n",
       "      <th>population</th>\n",
       "      <th>life_expectancy</th>\n",
       "      <th>GDP</th>\n",
       "    </tr>\n",
       "  </thead>\n",
       "  <tbody>\n",
       "    <tr>\n",
       "      <th>55062</th>\n",
       "      <td>Hong Kong, China</td>\n",
       "      <td>2082</td>\n",
       "      <td>3290000</td>\n",
       "      <td>0.0</td>\n",
       "      <td>83900</td>\n",
       "    </tr>\n",
       "    <tr>\n",
       "      <th>52917</th>\n",
       "      <td>Hong Kong, China</td>\n",
       "      <td>2071</td>\n",
       "      <td>4240000</td>\n",
       "      <td>0.0</td>\n",
       "      <td>81300</td>\n",
       "    </tr>\n",
       "    <tr>\n",
       "      <th>52722</th>\n",
       "      <td>Hong Kong, China</td>\n",
       "      <td>2070</td>\n",
       "      <td>4330000</td>\n",
       "      <td>0.0</td>\n",
       "      <td>81000</td>\n",
       "    </tr>\n",
       "    <tr>\n",
       "      <th>52527</th>\n",
       "      <td>Hong Kong, China</td>\n",
       "      <td>2069</td>\n",
       "      <td>4410000</td>\n",
       "      <td>0.0</td>\n",
       "      <td>80700</td>\n",
       "    </tr>\n",
       "    <tr>\n",
       "      <th>52332</th>\n",
       "      <td>Hong Kong, China</td>\n",
       "      <td>2068</td>\n",
       "      <td>4500000</td>\n",
       "      <td>0.0</td>\n",
       "      <td>80500</td>\n",
       "    </tr>\n",
       "  </tbody>\n",
       "</table>\n",
       "</div>"
      ],
      "text/plain": [
       "                country  year  population  life_expectancy    GDP\n",
       "55062  Hong Kong, China  2082     3290000              0.0  83900\n",
       "52917  Hong Kong, China  2071     4240000              0.0  81300\n",
       "52722  Hong Kong, China  2070     4330000              0.0  81000\n",
       "52527  Hong Kong, China  2069     4410000              0.0  80700\n",
       "52332  Hong Kong, China  2068     4500000              0.0  80500"
      ]
     },
     "execution_count": 163,
     "metadata": {},
     "output_type": "execute_result"
    }
   ],
   "source": [
    "sorted_df = final_df_ffill.sort_values(by='life_expectancy', ascending=True, inplace=False)\n",
    "sorted_df.head()"
   ]
  },
  {
   "cell_type": "code",
   "execution_count": null,
   "metadata": {},
   "outputs": [
    {
     "data": {
      "text/html": [
       "<div>\n",
       "<style scoped>\n",
       "    .dataframe tbody tr th:only-of-type {\n",
       "        vertical-align: middle;\n",
       "    }\n",
       "\n",
       "    .dataframe tbody tr th {\n",
       "        vertical-align: top;\n",
       "    }\n",
       "\n",
       "    .dataframe thead th {\n",
       "        text-align: right;\n",
       "    }\n",
       "</style>\n",
       "<table border=\"1\" class=\"dataframe\">\n",
       "  <thead>\n",
       "    <tr style=\"text-align: right;\">\n",
       "      <th></th>\n",
       "      <th>country</th>\n",
       "      <th>year</th>\n",
       "      <th>population</th>\n",
       "      <th>life_expectancy</th>\n",
       "      <th>GDP</th>\n",
       "      <th>population_category</th>\n",
       "    </tr>\n",
       "  </thead>\n",
       "  <tbody>\n",
       "    <tr>\n",
       "      <th>0</th>\n",
       "      <td>Afghanistan</td>\n",
       "      <td>1800</td>\n",
       "      <td>3280000</td>\n",
       "      <td>28.2</td>\n",
       "      <td>481</td>\n",
       "      <td>Low</td>\n",
       "    </tr>\n",
       "    <tr>\n",
       "      <th>1</th>\n",
       "      <td>Angola</td>\n",
       "      <td>1800</td>\n",
       "      <td>1570000</td>\n",
       "      <td>27.0</td>\n",
       "      <td>373</td>\n",
       "      <td>Low</td>\n",
       "    </tr>\n",
       "    <tr>\n",
       "      <th>2</th>\n",
       "      <td>Albania</td>\n",
       "      <td>1800</td>\n",
       "      <td>400000</td>\n",
       "      <td>35.4</td>\n",
       "      <td>469</td>\n",
       "      <td>Low</td>\n",
       "    </tr>\n",
       "    <tr>\n",
       "      <th>3</th>\n",
       "      <td>Andorra</td>\n",
       "      <td>1800</td>\n",
       "      <td>2650</td>\n",
       "      <td>35.4</td>\n",
       "      <td>1370</td>\n",
       "      <td>Low</td>\n",
       "    </tr>\n",
       "    <tr>\n",
       "      <th>4</th>\n",
       "      <td>UAE</td>\n",
       "      <td>1800</td>\n",
       "      <td>40200</td>\n",
       "      <td>30.7</td>\n",
       "      <td>1140</td>\n",
       "      <td>Low</td>\n",
       "    </tr>\n",
       "  </tbody>\n",
       "</table>\n",
       "</div>"
      ],
      "text/plain": [
       "       country  year  population  life_expectancy   GDP population_category\n",
       "0  Afghanistan  1800     3280000             28.2   481                 Low\n",
       "1       Angola  1800     1570000             27.0   373                 Low\n",
       "2      Albania  1800      400000             35.4   469                 Low\n",
       "3      Andorra  1800        2650             35.4  1370                 Low\n",
       "4          UAE  1800       40200             30.7  1140                 Low"
      ]
     },
     "execution_count": 164,
     "metadata": {},
     "output_type": "execute_result"
    }
   ],
   "source": [
    "# I created a new column due to given threshold.\n",
    "bins = [0, 10_000_000, 50_000_000, float('inf')]  # Low, Medium, High\n",
    "labels = ['Low', 'Medium', 'High']\n",
    "\n",
    "# Create a new column 'population_category' based on the thresholds\n",
    "final_df_ffill['population_category'] = pd.cut(final_df_ffill['population'], bins=bins, labels=labels, right=False)\n",
    "final_df_ffill.head()\n"
   ]
  },
  {
   "cell_type": "code",
   "execution_count": null,
   "metadata": {},
   "outputs": [],
   "source": [
    "# I created contitnets by given country names in dataset\n",
    "continents = {\n",
    "    'Africa': [\n",
    "        'Angola', 'Benin', 'Burkina Faso', 'Burundi', 'Cape Verde', 'Cameroon', \n",
    "        'Central African Republic', 'Comoros', 'Democratic Republic of the Congo', \n",
    "        'Republic of the Congo', 'Djibouti', 'Egypt', 'Equatorial Guinea', 'Eritrea', \n",
    "        'Ethiopia', 'Gabon', 'Gambia', 'Ghana', 'Guinea', 'Guinea-Bissau', 'Ivory Coast', \n",
    "        'Kenya', 'Liberia', 'Libya', 'Madagascar', 'Malawi', 'Mali', 'Mauritania', 'Mauritius', \n",
    "        'Mozambique', 'Namibia', 'Niger', 'Nigeria', 'Rwanda', 'Senegal', 'Seychelles', \n",
    "        'Sierra Leone', 'Somalia', 'South Africa', 'Sudan', 'Tanzania', 'Togo', 'Uganda', \n",
    "        'Zambia', 'Zimbabwe'\n",
    "    ],\n",
    "    'Asia': [\n",
    "        'Afghanistan', 'Armenia', 'Azerbaijan', 'Bahrain', 'Bangladesh', 'Bhutan', 'Brunei', \n",
    "        'Cambodia', 'China', 'Georgia', 'India', 'Indonesia', 'Iran', 'Iraq', 'Israel', 'Japan', \n",
    "        'Kazakhstan', 'Kuwait', 'Kyrgyz Republic', 'Laos', 'Lebanon', 'Maldives', 'Mongolia', 'Myanmar', \n",
    "        'North Korea', 'Oman', 'Pakistan', 'Palestine', 'Philippines', 'Qatar', 'Saudi Arabia', \n",
    "        'Sri Lanka', 'Syria', 'Tajikistan', 'Taiwan', 'Turkmenistan', 'Uzbekistan', 'Vietnam', 'Yemen', 'United Arab Emirates'\n",
    "    ],\n",
    "    'Europe': [\n",
    "        'Albania', 'Andorra', 'Austria', 'Belgium', 'Bulgaria', 'Croatia', 'Cyprus', 'Czech Republic', \n",
    "        'Denmark', 'Estonia', 'Finland', 'France', 'Germany', 'Greece', 'Hungary', 'Iceland', 'Ireland', \n",
    "        'Italy', 'Latvia', 'Lithuania', 'Luxembourg', 'Malta', 'Moldova', 'Monaco', 'Montenegro', 'Netherlands', \n",
    "        'North Macedonia', 'Poland', 'Portugal', 'Romania', 'Russia', 'Slovakia', 'Slovenia', 'Spain', 'Sweden', \n",
    "        'Switzerland', 'Ukraine', 'United Kingdom'\n",
    "    ],\n",
    "    'North America': [\n",
    "        'Antigua and Barbuda', 'Bahamas', 'Barbados', 'Belize', 'Canada', 'Costa Rica', 'Cuba', 'Dominica', \n",
    "        'Dominican Republic', 'El Salvador', 'Grenada', 'Guatemala', 'Haiti', 'Honduras', 'Jamaica', 'Mexico', \n",
    "        'Nicaragua', 'Panama', 'St. Kitts and Nevis', 'St. Lucia', 'St. Vincent and the Grenadines', \n",
    "        'Trinidad and Tobago', 'United States'\n",
    "    ],\n",
    "    'Oceania': [\n",
    "        'Australia', 'Fiji', 'Kiribati', 'Marshall Islands', 'Micronesia', 'Nauru', 'New Zealand', 'Palau', \n",
    "        'Papua New Guinea', 'Samoa', 'Solomon Islands', 'Tonga', 'Tuvalu', 'Vanuatu'\n",
    "    ],\n",
    "    'South America': [\n",
    "        'Argentina', 'Bolivia', 'Brazil', 'Chile', 'Colombia', 'Ecuador', 'Guyana', 'Paraguay', 'Peru', \n",
    "        'Suriname', 'Uruguay', 'Venezuela'\n",
    "    ]\n",
    "    \n",
    "}\n",
    "final_df_ffill['continent'] = final_df_ffill['country'].map(lambda x: next((continent for continent, countries in continents.items() if x in countries), 'Unknown'))\n"
   ]
  },
  {
   "cell_type": "markdown",
   "metadata": {},
   "source": [
    "7) Basic Data Analysis"
   ]
  },
  {
   "cell_type": "code",
   "execution_count": 168,
   "metadata": {},
   "outputs": [
    {
     "data": {
      "text/plain": [
       "continent\n",
       "Africa            4661.904050\n",
       "Asia             13197.425861\n",
       "Europe           24450.811000\n",
       "North America    12394.726216\n",
       "Oceania           9480.194224\n",
       "South America    13527.358250\n",
       "Unknown          13998.773879\n",
       "Name: GDP, dtype: float64"
      ]
     },
     "execution_count": 168,
     "metadata": {},
     "output_type": "execute_result"
    }
   ],
   "source": [
    "average_gdp_per_continent = final_df_ffill.groupby('continent')['GDP'].mean()\n",
    "average_gdp_per_continent\n"
   ]
  },
  {
   "cell_type": "code",
   "execution_count": null,
   "metadata": {},
   "outputs": [
    {
     "data": {
      "text/plain": [
       "country                San Marino\n",
       "year                         1997\n",
       "population                  25800\n",
       "life_expectancy              81.1\n",
       "GDP                         67900\n",
       "population_category           Low\n",
       "continent                 Unknown\n",
       "Name: 38571, dtype: object"
      ]
     },
     "execution_count": 184,
     "metadata": {},
     "output_type": "execute_result"
    }
   ],
   "source": [
    "df_year = final_df_ffill[final_df_ffill['year'] == 1997]\n",
    "country_max_lex = df_year.loc[df_year['life_expectancy'].idxmax()]\n",
    "country_max_lex"
   ]
  },
  {
   "cell_type": "markdown",
   "metadata": {},
   "source": [
    "8) Data visualization"
   ]
  },
  {
   "cell_type": "code",
   "execution_count": null,
   "metadata": {},
   "outputs": [
    {
     "data": {
      "text/plain": [
       "<Figure size 1000x600 with 0 Axes>"
      ]
     },
     "execution_count": 186,
     "metadata": {},
     "output_type": "execute_result"
    },
    {
     "data": {
      "text/plain": [
       "<Axes: title={'center': 'Life Expectancy Over the Years for Japan'}, xlabel='year'>"
      ]
     },
     "execution_count": 186,
     "metadata": {},
     "output_type": "execute_result"
    },
    {
     "data": {
      "text/plain": [
       "Text(0.5, 0, 'Year')"
      ]
     },
     "execution_count": 186,
     "metadata": {},
     "output_type": "execute_result"
    },
    {
     "data": {
      "text/plain": [
       "Text(0, 0.5, 'Life Expectancy')"
      ]
     },
     "execution_count": 186,
     "metadata": {},
     "output_type": "execute_result"
    },
    {
     "data": {
      "text/plain": [
       "<Figure size 1000x600 with 0 Axes>"
      ]
     },
     "metadata": {},
     "output_type": "display_data"
    },
    {
     "data": {
      "image/png": "[encoded data removed]",
      "text/plain": [
       "<Figure size 640x480 with 1 Axes>"
      ]
     },
     "metadata": {},
     "output_type": "display_data"
    }
   ],
   "source": [
    "\n",
    "\n",
    "# here I plotted the given country trend.\n",
    "\n",
    "selected_country = 'Japan'  \n",
    "df_country = final_df_ffill[final_df_ffill['country'] == selected_country]\n",
    "\n",
    "plt.figure(figsize=(10, 6))\n",
    "df_country.plot(x='year', y='life_expectancy', kind='line', marker='o', title=f'Life Expectancy Over the Years for {selected_country}')\n",
    "plt.xlabel('Year')\n",
    "plt.ylabel('Life Expectancy')\n",
    "plt.grid(True)\n",
    "plt.show()"
   ]
  }
 ],
 "metadata": {
  "kernelspec": {
   "display_name": "base",
   "language": "python",
   "name": "python3"
  },
  "language_info": {
   "codemirror_mode": {
    "name": "ipython",
    "version": 3
   },
   "file_extension": ".py",
   "mimetype": "text/x-python",
   "name": "python",
   "nbconvert_exporter": "python",
   "pygments_lexer": "ipython3",
   "version": "3.12.4"
  }
 },
 "nbformat": 4,
 "nbformat_minor": 2
}
